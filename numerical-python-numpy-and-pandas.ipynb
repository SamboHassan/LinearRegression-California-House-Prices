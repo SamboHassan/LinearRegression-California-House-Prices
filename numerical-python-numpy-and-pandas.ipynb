{
 "cells": [
  {
   "cell_type": "markdown",
   "id": "1a848a2b",
   "metadata": {},
   "source": [
    "# Vector, matrices and multidimentional arrays"
   ]
  },
  {
   "cell_type": "code",
   "execution_count": 1,
   "id": "7387f244",
   "metadata": {},
   "outputs": [],
   "source": [
    "import numpy as np"
   ]
  },
  {
   "cell_type": "code",
   "execution_count": 4,
   "id": "e0bcabba",
   "metadata": {},
   "outputs": [
    {
     "name": "stdout",
     "output_type": "stream",
     "text": [
      "[ 1  3  5  7  9 11 13]\n"
     ]
    }
   ],
   "source": [
    "a = np.arange(1,15,2)\n",
    "print(a)"
   ]
  },
  {
   "cell_type": "code",
   "execution_count": 14,
   "id": "4a374c80",
   "metadata": {},
   "outputs": [],
   "source": [
    "#sqrt\n",
    "b = np.sqrt(a)"
   ]
  },
  {
   "cell_type": "code",
   "execution_count": 12,
   "id": "3ae1eb89",
   "metadata": {},
   "outputs": [
    {
     "data": {
      "text/plain": [
       "array([2.71828183e+00, 2.00855369e+01, 1.48413159e+02, 1.09663316e+03,\n",
       "       8.10308393e+03, 5.98741417e+04, 4.42413392e+05])"
      ]
     },
     "execution_count": 12,
     "metadata": {},
     "output_type": "execute_result"
    }
   ],
   "source": [
    "np.exp(a)"
   ]
  },
  {
   "cell_type": "code",
   "execution_count": 17,
   "id": "f143de2b",
   "metadata": {},
   "outputs": [
    {
     "data": {
      "text/plain": [
       "array([ 2.        ,  4.73205081,  7.23606798,  9.64575131, 12.        ,\n",
       "       14.31662479, 16.60555128])"
      ]
     },
     "execution_count": 17,
     "metadata": {},
     "output_type": "execute_result"
    }
   ],
   "source": [
    "np.add(a,b)"
   ]
  },
  {
   "cell_type": "markdown",
   "id": "3bf81880",
   "metadata": {},
   "source": [
    "### Conditional Clause and Boolean Operation"
   ]
  },
  {
   "cell_type": "code",
   "execution_count": 23,
   "id": "46c7a34e",
   "metadata": {},
   "outputs": [],
   "source": [
    "x = np.array([100,400,500,600]) # let each data item be 'a'\n",
    "y = np.array([10,15,20,25]) # let each data item be 'b'\n",
    "\n",
    "condition = np.array([True, True, False, False])"
   ]
  },
  {
   "cell_type": "code",
   "execution_count": 21,
   "id": "b5353205",
   "metadata": {},
   "outputs": [],
   "source": [
    "# use loop indirectly to perform this\n",
    "z = [a if cond else b for a, cond, b in zip(x, condition,y)]"
   ]
  },
  {
   "cell_type": "code",
   "execution_count": 24,
   "id": "819b3838",
   "metadata": {},
   "outputs": [
    {
     "name": "stdout",
     "output_type": "stream",
     "text": [
      "[100, 400, 20, 25]\n"
     ]
    }
   ],
   "source": [
    "print(z)"
   ]
  },
  {
   "cell_type": "code",
   "execution_count": 28,
   "id": "39380cca",
   "metadata": {},
   "outputs": [],
   "source": [
    "# np.where(condition, value-for-yes, value-for-no)\n",
    "z2 = np.where(condition, x, y)"
   ]
  },
  {
   "cell_type": "code",
   "execution_count": 29,
   "id": "63fa039e",
   "metadata": {},
   "outputs": [
    {
     "name": "stdout",
     "output_type": "stream",
     "text": [
      "[100 400  20  25]\n"
     ]
    }
   ],
   "source": [
    "print(z2)"
   ]
  },
  {
   "cell_type": "code",
   "execution_count": 31,
   "id": "eca38ca3",
   "metadata": {},
   "outputs": [
    {
     "data": {
      "text/plain": [
       "545"
      ]
     },
     "execution_count": 31,
     "metadata": {},
     "output_type": "execute_result"
    }
   ],
   "source": [
    "# Standard function\n",
    "z2.sum()"
   ]
  },
  {
   "cell_type": "code",
   "execution_count": 36,
   "id": "747001b4",
   "metadata": {},
   "outputs": [
    {
     "name": "stdout",
     "output_type": "stream",
     "text": [
      "[[1 2]\n",
      " [3 4]]\n"
     ]
    }
   ],
   "source": [
    "#Sum column\n",
    "\n",
    "n = np.array([[1,2],[3,4]])\n",
    "print(n)"
   ]
  },
  {
   "cell_type": "code",
   "execution_count": 38,
   "id": "1b4c6414",
   "metadata": {},
   "outputs": [
    {
     "name": "stdout",
     "output_type": "stream",
     "text": [
      "[4 6]\n"
     ]
    }
   ],
   "source": [
    "# column sum\n",
    "print(n.sum(0))"
   ]
  },
  {
   "cell_type": "code",
   "execution_count": 40,
   "id": "ca6cabce",
   "metadata": {},
   "outputs": [
    {
     "name": "stdout",
     "output_type": "stream",
     "text": [
      "[3 7]\n"
     ]
    }
   ],
   "source": [
    "# row sum\n",
    "print(n.sum(1))"
   ]
  },
  {
   "cell_type": "code",
   "execution_count": 42,
   "id": "223ead5a",
   "metadata": {},
   "outputs": [
    {
     "name": "stdout",
     "output_type": "stream",
     "text": [
      "2.5\n",
      "1.118033988749895\n",
      "1.25\n"
     ]
    }
   ],
   "source": [
    "print(n.mean())\n",
    "print(n.std())\n",
    "print(n.var())"
   ]
  },
  {
   "cell_type": "code",
   "execution_count": 44,
   "id": "921a8c80",
   "metadata": {},
   "outputs": [],
   "source": [
    "condition2 = np.array([True, False, True])"
   ]
  },
  {
   "cell_type": "code",
   "execution_count": 49,
   "id": "ce7bbd71",
   "metadata": {},
   "outputs": [
    {
     "data": {
      "text/plain": [
       "False"
      ]
     },
     "execution_count": 49,
     "metadata": {},
     "output_type": "execute_result"
    }
   ],
   "source": [
    "# condition2.any() # or operator\n",
    "condition2.all() # and operator"
   ]
  },
  {
   "cell_type": "code",
   "execution_count": 54,
   "id": "9518a468",
   "metadata": {},
   "outputs": [],
   "source": []
  },
  {
   "cell_type": "code",
   "execution_count": 66,
   "id": "dbeac626",
   "metadata": {},
   "outputs": [],
   "source": [
    "array2 = np.array(['solid', 'solid', 'liquid', 'solid', 'liquid'])"
   ]
  },
  {
   "cell_type": "code",
   "execution_count": 70,
   "id": "41c0acb1",
   "metadata": {},
   "outputs": [
    {
     "name": "stdout",
     "output_type": "stream",
     "text": [
      "['liquid' 'solid']\n"
     ]
    }
   ],
   "source": [
    "print(np.unique(array2))"
   ]
  },
  {
   "cell_type": "code",
   "execution_count": 72,
   "id": "a0040467",
   "metadata": {},
   "outputs": [],
   "source": [
    "# Sorting in numpy array\n",
    "unsorted = np.array([1,2,8,10,7,9,4])"
   ]
  },
  {
   "cell_type": "code",
   "execution_count": 75,
   "id": "c4329f15",
   "metadata": {},
   "outputs": [],
   "source": [
    "sorted_array = np.sort(unsorted)"
   ]
  },
  {
   "cell_type": "code",
   "execution_count": 77,
   "id": "4670a6b8",
   "metadata": {},
   "outputs": [
    {
     "name": "stdout",
     "output_type": "stream",
     "text": [
      "[ 1  2  4  7  8  9 10]\n"
     ]
    }
   ],
   "source": [
    "print(sorted_array)"
   ]
  },
  {
   "cell_type": "markdown",
   "id": "5b8cdefa",
   "metadata": {},
   "source": [
    "## 2. Data Manipulation with Pandas"
   ]
  },
  {
   "cell_type": "code",
   "execution_count": 79,
   "id": "aa3eead9",
   "metadata": {},
   "outputs": [],
   "source": [
    "import pandas as pd\n",
    "from pandas import Series"
   ]
  },
  {
   "cell_type": "code",
   "execution_count": 81,
   "id": "606ef71e",
   "metadata": {},
   "outputs": [],
   "source": [
    "obj1 = Series([5,10,15,20])"
   ]
  },
  {
   "cell_type": "code",
   "execution_count": 83,
   "id": "1fd87471",
   "metadata": {},
   "outputs": [
    {
     "name": "stdout",
     "output_type": "stream",
     "text": [
      "0     5\n",
      "1    10\n",
      "2    15\n",
      "3    20\n",
      "dtype: int64\n"
     ]
    }
   ],
   "source": [
    "print(obj1)"
   ]
  },
  {
   "cell_type": "code",
   "execution_count": 94,
   "id": "3ffdc3d0",
   "metadata": {},
   "outputs": [],
   "source": [
    "#use numpy array to series\n",
    "data_array = np.array(['a', 'b', 'c'])\n",
    "\n",
    "s = Series(data_array)"
   ]
  },
  {
   "cell_type": "code",
   "execution_count": 97,
   "id": "43ed0901",
   "metadata": {},
   "outputs": [
    {
     "name": "stdout",
     "output_type": "stream",
     "text": [
      "100    a\n",
      "101    b\n",
      "102    c\n",
      "dtype: object\n"
     ]
    }
   ],
   "source": [
    "# custom index\n",
    "s = Series(data_array, index=[100,101,102])\n",
    "print(s)"
   ]
  },
  {
   "cell_type": "code",
   "execution_count": 101,
   "id": "01d11e4f",
   "metadata": {},
   "outputs": [
    {
     "name": "stdout",
     "output_type": "stream",
     "text": [
      "uber    80\n",
      "grab    40\n",
      "goje    35\n",
      "dtype: int64\n"
     ]
    }
   ],
   "source": [
    "revenue = Series([20,80,40,35], index=['ola', 'uber', 'grab','goje'])\n",
    "# print(revenue['ola'])\n",
    "print(revenue[revenue>=34])"
   ]
  },
  {
   "cell_type": "code",
   "execution_count": 99,
   "id": "fad9440a",
   "metadata": {},
   "outputs": [
    {
     "data": {
      "text/plain": [
       "100    a\n",
       "101    b\n",
       "102    c\n",
       "dtype: object"
      ]
     },
     "execution_count": 99,
     "metadata": {},
     "output_type": "execute_result"
    }
   ],
   "source": []
  }
 ],
 "metadata": {
  "kernelspec": {
   "display_name": "Python 3 (ipykernel)",
   "language": "python",
   "name": "python3"
  },
  "language_info": {
   "codemirror_mode": {
    "name": "ipython",
    "version": 3
   },
   "file_extension": ".py",
   "mimetype": "text/x-python",
   "name": "python",
   "nbconvert_exporter": "python",
   "pygments_lexer": "ipython3",
   "version": "3.11.4"
  }
 },
 "nbformat": 4,
 "nbformat_minor": 5
}

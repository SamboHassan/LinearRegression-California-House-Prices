{
 "cells": [
  {
   "cell_type": "markdown",
   "id": "aeaeb33a",
   "metadata": {},
   "source": [
    "# Vector, matrices and multidimentional arrays"
   ]
  },
  {
   "cell_type": "code",
   "execution_count": 1,
   "id": "dc679d78",
   "metadata": {},
   "outputs": [],
   "source": [
    "import numpy as np"
   ]
  },
  {
   "cell_type": "code",
   "execution_count": 4,
   "id": "7c3012e2",
   "metadata": {},
   "outputs": [
    {
     "name": "stdout",
     "output_type": "stream",
     "text": [
      "[ 1  3  5  7  9 11 13]\n"
     ]
    }
   ],
   "source": [
    "a = np.arange(1,15,2)\n",
    "print(a)"
   ]
  },
  {
   "cell_type": "code",
   "execution_count": 14,
   "id": "775655f7",
   "metadata": {},
   "outputs": [],
   "source": [
    "#sqrt\n",
    "b = np.sqrt(a)"
   ]
  },
  {
   "cell_type": "code",
   "execution_count": 12,
   "id": "85af70bd",
   "metadata": {},
   "outputs": [
    {
     "data": {
      "text/plain": [
       "array([2.71828183e+00, 2.00855369e+01, 1.48413159e+02, 1.09663316e+03,\n",
       "       8.10308393e+03, 5.98741417e+04, 4.42413392e+05])"
      ]
     },
     "execution_count": 12,
     "metadata": {},
     "output_type": "execute_result"
    }
   ],
   "source": [
    "np.exp(a)"
   ]
  },
  {
   "cell_type": "code",
   "execution_count": 17,
   "id": "6cee01f2",
   "metadata": {},
   "outputs": [
    {
     "data": {
      "text/plain": [
       "array([ 2.        ,  4.73205081,  7.23606798,  9.64575131, 12.        ,\n",
       "       14.31662479, 16.60555128])"
      ]
     },
     "execution_count": 17,
     "metadata": {},
     "output_type": "execute_result"
    }
   ],
   "source": [
    "np.add(a,b)"
   ]
  },
  {
   "cell_type": "markdown",
   "id": "257e6d29",
   "metadata": {},
   "source": [
    "### Conditional Clause and Boolean Operation"
   ]
  },
  {
   "cell_type": "code",
   "execution_count": 23,
   "id": "de4110e1",
   "metadata": {},
   "outputs": [],
   "source": [
    "x = np.array([100,400,500,600]) # let each data item be 'a'\n",
    "y = np.array([10,15,20,25]) # let each data item be 'b'\n",
    "\n",
    "condition = np.array([True, True, False, False])"
   ]
  },
  {
   "cell_type": "code",
   "execution_count": 21,
   "id": "f2652a9a",
   "metadata": {},
   "outputs": [],
   "source": [
    "# use loop indirectly to perform this\n",
    "z = [a if cond else b for a, cond, b in zip(x, condition,y)]"
   ]
  },
  {
   "cell_type": "code",
   "execution_count": 24,
   "id": "3f7b0ec6",
   "metadata": {},
   "outputs": [
    {
     "name": "stdout",
     "output_type": "stream",
     "text": [
      "[100, 400, 20, 25]\n"
     ]
    }
   ],
   "source": [
    "print(z)"
   ]
  },
  {
   "cell_type": "code",
   "execution_count": 28,
   "id": "002feea2",
   "metadata": {},
   "outputs": [],
   "source": [
    "# np.where(condition, value-for-yes, value-for-no)\n",
    "z2 = np.where(condition, x, y)"
   ]
  },
  {
   "cell_type": "code",
   "execution_count": 29,
   "id": "37782262",
   "metadata": {},
   "outputs": [
    {
     "name": "stdout",
     "output_type": "stream",
     "text": [
      "[100 400  20  25]\n"
     ]
    }
   ],
   "source": [
    "print(z2)"
   ]
  },
  {
   "cell_type": "code",
   "execution_count": 31,
   "id": "cc051234",
   "metadata": {},
   "outputs": [
    {
     "data": {
      "text/plain": [
       "545"
      ]
     },
     "execution_count": 31,
     "metadata": {},
     "output_type": "execute_result"
    }
   ],
   "source": [
    "# Standard function\n",
    "z2.sum()"
   ]
  },
  {
   "cell_type": "code",
   "execution_count": 36,
   "id": "355f8d70",
   "metadata": {},
   "outputs": [
    {
     "name": "stdout",
     "output_type": "stream",
     "text": [
      "[[1 2]\n",
      " [3 4]]\n"
     ]
    }
   ],
   "source": [
    "#Sum column\n",
    "\n",
    "n = np.array([[1,2],[3,4]])\n",
    "print(n)"
   ]
  },
  {
   "cell_type": "code",
   "execution_count": 38,
   "id": "ac49dd03",
   "metadata": {},
   "outputs": [
    {
     "name": "stdout",
     "output_type": "stream",
     "text": [
      "[4 6]\n"
     ]
    }
   ],
   "source": [
    "# column sum\n",
    "print(n.sum(0))"
   ]
  },
  {
   "cell_type": "code",
   "execution_count": 40,
   "id": "feaf03c8",
   "metadata": {},
   "outputs": [
    {
     "name": "stdout",
     "output_type": "stream",
     "text": [
      "[3 7]\n"
     ]
    }
   ],
   "source": [
    "# row sum\n",
    "print(n.sum(1))"
   ]
  },
  {
   "cell_type": "code",
   "execution_count": 42,
   "id": "21921e1d",
   "metadata": {},
   "outputs": [
    {
     "name": "stdout",
     "output_type": "stream",
     "text": [
      "2.5\n",
      "1.118033988749895\n",
      "1.25\n"
     ]
    }
   ],
   "source": [
    "print(n.mean())\n",
    "print(n.std())\n",
    "print(n.var())"
   ]
  },
  {
   "cell_type": "code",
   "execution_count": 44,
   "id": "b6b77aff",
   "metadata": {},
   "outputs": [],
   "source": [
    "condition2 = np.array([True, False, True])"
   ]
  },
  {
   "cell_type": "code",
   "execution_count": 49,
   "id": "87b40505",
   "metadata": {},
   "outputs": [
    {
     "data": {
      "text/plain": [
       "False"
      ]
     },
     "execution_count": 49,
     "metadata": {},
     "output_type": "execute_result"
    }
   ],
   "source": [
    "# condition2.any() # or operator\n",
    "condition2.all() # and operator"
   ]
  },
  {
   "cell_type": "code",
   "execution_count": 54,
   "id": "77d3d5da",
   "metadata": {},
   "outputs": [],
   "source": []
  },
  {
   "cell_type": "code",
   "execution_count": 66,
   "id": "edbab203",
   "metadata": {},
   "outputs": [],
   "source": [
    "array2 = np.array(['solid', 'solid', 'liquid', 'solid', 'liquid'])"
   ]
  },
  {
   "cell_type": "code",
   "execution_count": 70,
   "id": "cb9235dd",
   "metadata": {},
   "outputs": [
    {
     "name": "stdout",
     "output_type": "stream",
     "text": [
      "['liquid' 'solid']\n"
     ]
    }
   ],
   "source": [
    "print(np.unique(array2))"
   ]
  },
  {
   "cell_type": "code",
   "execution_count": 72,
   "id": "90b29440",
   "metadata": {},
   "outputs": [],
   "source": [
    "# Sorting in numpy array\n",
    "unsorted = np.array([1,2,8,10,7,9,4])"
   ]
  },
  {
   "cell_type": "code",
   "execution_count": 75,
   "id": "cd2f6fdd",
   "metadata": {},
   "outputs": [],
   "source": [
    "sorted_array = np.sort(unsorted)"
   ]
  },
  {
   "cell_type": "code",
   "execution_count": 77,
   "id": "59567a35",
   "metadata": {},
   "outputs": [
    {
     "name": "stdout",
     "output_type": "stream",
     "text": [
      "[ 1  2  4  7  8  9 10]\n"
     ]
    }
   ],
   "source": [
    "print(sorted_array)"
   ]
  },
  {
   "cell_type": "markdown",
   "id": "1ab0b07e",
   "metadata": {},
   "source": [
    "## 2. Data Manipulation with Pandas"
   ]
  },
  {
   "cell_type": "code",
   "execution_count": 79,
   "id": "32ba8e1d",
   "metadata": {},
   "outputs": [],
   "source": [
    "import pandas as pd\n",
    "from pandas import Series"
   ]
  },
  {
   "cell_type": "code",
   "execution_count": 81,
   "id": "3dc5052b",
   "metadata": {},
   "outputs": [],
   "source": [
    "obj1 = Series([5,10,15,20])"
   ]
  },
  {
   "cell_type": "code",
   "execution_count": 83,
   "id": "fc55e970",
   "metadata": {},
   "outputs": [
    {
     "name": "stdout",
     "output_type": "stream",
     "text": [
      "0     5\n",
      "1    10\n",
      "2    15\n",
      "3    20\n",
      "dtype: int64\n"
     ]
    }
   ],
   "source": [
    "print(obj1)"
   ]
  },
  {
   "cell_type": "code",
   "execution_count": 94,
   "id": "d0f2096e",
   "metadata": {},
   "outputs": [],
   "source": [
    "#use numpy array to series\n",
    "data_array = np.array(['a', 'b', 'c'])\n",
    "\n",
    "s = Series(data_array)"
   ]
  },
  {
   "cell_type": "code",
   "execution_count": 97,
   "id": "80db999e",
   "metadata": {},
   "outputs": [
    {
     "name": "stdout",
     "output_type": "stream",
     "text": [
      "100    a\n",
      "101    b\n",
      "102    c\n",
      "dtype: object\n"
     ]
    }
   ],
   "source": [
    "# custom index\n",
    "s = Series(data_array, index=[100,101,102])\n",
    "print(s)"
   ]
  },
  {
   "cell_type": "code",
   "execution_count": 113,
   "id": "284895e4",
   "metadata": {},
   "outputs": [
    {
     "name": "stdout",
     "output_type": "stream",
     "text": [
      "ola     20\n",
      "uber    80\n",
      "grab    40\n",
      "goje    35\n",
      "dtype: int64\n"
     ]
    }
   ],
   "source": [
    "revenue = Series([20,80,40,35], index=['ola', 'uber', 'grab','goje'])\n",
    "print(revenue)\n",
    "# print(revenue['ola'])\n",
    "# print(revenue[revenue>=34])"
   ]
  },
  {
   "cell_type": "code",
   "execution_count": 104,
   "id": "4781f25b",
   "metadata": {},
   "outputs": [
    {
     "name": "stdout",
     "output_type": "stream",
     "text": [
      "{'ola': 20, 'uber': 80, 'grab': 40, 'goje': 35}\n",
      "<class 'dict'>\n"
     ]
    }
   ],
   "source": [
    "revenue_dict = revenue.to_dict()\n",
    "print(revenue_dict)\n",
    "print(type(revenue_dict))"
   ]
  },
  {
   "cell_type": "code",
   "execution_count": 111,
   "id": "4d22a047",
   "metadata": {},
   "outputs": [
    {
     "data": {
      "text/plain": [
       "musa     True\n",
       "saleh    True\n",
       "isa      True\n",
       "modu     True\n",
       "tanko    True\n",
       "dtype: bool"
      ]
     },
     "execution_count": 111,
     "metadata": {},
     "output_type": "execute_result"
    }
   ],
   "source": [
    "index2 = ['musa', 'saleh', 'isa', 'modu', 'tanko']\n",
    "revenue2 = Series(revenue, index2)\n",
    "# print(revenue2)\n",
    "pd.isnull(revenue2)"
   ]
  },
  {
   "cell_type": "code",
   "execution_count": 112,
   "id": "0f6f1383",
   "metadata": {},
   "outputs": [
    {
     "name": "stdout",
     "output_type": "stream",
     "text": [
      "goje    NaN\n",
      "grab    NaN\n",
      "isa     NaN\n",
      "modu    NaN\n",
      "musa    NaN\n",
      "ola     NaN\n",
      "saleh   NaN\n",
      "tanko   NaN\n",
      "uber    NaN\n",
      "dtype: float64\n"
     ]
    }
   ],
   "source": [
    "print(revenue + revenue2)"
   ]
  }
 ],
 "metadata": {
  "kernelspec": {
   "display_name": "Python 3 (ipykernel)",
   "language": "python",
   "name": "python3"
  },
  "language_info": {
   "codemirror_mode": {
    "name": "ipython",
    "version": 3
   },
   "file_extension": ".py",
   "mimetype": "text/x-python",
   "name": "python",
   "nbconvert_exporter": "python",
   "pygments_lexer": "ipython3",
   "version": "3.11.4"
  }
 },
 "nbformat": 4,
 "nbformat_minor": 5
}

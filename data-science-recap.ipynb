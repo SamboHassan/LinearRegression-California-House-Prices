{
 "cells": [
  {
   "cell_type": "code",
   "execution_count": 1,
   "id": "0d429819",
   "metadata": {},
   "outputs": [],
   "source": [
    "import numpy as np"
   ]
  },
  {
   "cell_type": "code",
   "execution_count": 4,
   "id": "c088b016",
   "metadata": {},
   "outputs": [
    {
     "name": "stdout",
     "output_type": "stream",
     "text": [
      "[ 1  3  5  7  9 11 13]\n"
     ]
    }
   ],
   "source": [
    "a = np.arange(1,15,2)\n",
    "print(a)"
   ]
  },
  {
   "cell_type": "code",
   "execution_count": 14,
   "id": "9bc2266b",
   "metadata": {},
   "outputs": [],
   "source": [
    "#sqrt\n",
    "b = np.sqrt(a)"
   ]
  },
  {
   "cell_type": "code",
   "execution_count": 12,
   "id": "433fe319",
   "metadata": {},
   "outputs": [
    {
     "data": {
      "text/plain": [
       "array([2.71828183e+00, 2.00855369e+01, 1.48413159e+02, 1.09663316e+03,\n",
       "       8.10308393e+03, 5.98741417e+04, 4.42413392e+05])"
      ]
     },
     "execution_count": 12,
     "metadata": {},
     "output_type": "execute_result"
    }
   ],
   "source": [
    "np.exp(a)"
   ]
  },
  {
   "cell_type": "code",
   "execution_count": 17,
   "id": "33dc5d43",
   "metadata": {},
   "outputs": [
    {
     "data": {
      "text/plain": [
       "array([ 2.        ,  4.73205081,  7.23606798,  9.64575131, 12.        ,\n",
       "       14.31662479, 16.60555128])"
      ]
     },
     "execution_count": 17,
     "metadata": {},
     "output_type": "execute_result"
    }
   ],
   "source": [
    "np.add(a,b)"
   ]
  },
  {
   "cell_type": "markdown",
   "id": "e1b72332",
   "metadata": {},
   "source": [
    "### Conditional Clause and Boolean Operation"
   ]
  },
  {
   "cell_type": "code",
   "execution_count": 23,
   "id": "2e57ba65",
   "metadata": {},
   "outputs": [],
   "source": [
    "x = np.array([100,400,500,600]) # let each data item be 'a'\n",
    "y = np.array([10,15,20,25]) # let each data item be 'b'\n",
    "\n",
    "condition = np.array([True, True, False, False])"
   ]
  },
  {
   "cell_type": "code",
   "execution_count": 21,
   "id": "b83ab7ce",
   "metadata": {},
   "outputs": [],
   "source": [
    "# use loop indirectly to perform this\n",
    "z = [a if cond else b for a, cond, b in zip(x, condition,y)]"
   ]
  },
  {
   "cell_type": "code",
   "execution_count": 24,
   "id": "cccd553c",
   "metadata": {},
   "outputs": [
    {
     "name": "stdout",
     "output_type": "stream",
     "text": [
      "[100, 400, 20, 25]\n"
     ]
    }
   ],
   "source": [
    "print(z)"
   ]
  },
  {
   "cell_type": "code",
   "execution_count": 28,
   "id": "f7e5e402",
   "metadata": {},
   "outputs": [],
   "source": [
    "# np.where(condition, value-for-yes, value-for-no)\n",
    "z2 = np.where(condition, x, y)"
   ]
  },
  {
   "cell_type": "code",
   "execution_count": 29,
   "id": "b88de379",
   "metadata": {},
   "outputs": [
    {
     "name": "stdout",
     "output_type": "stream",
     "text": [
      "[100 400  20  25]\n"
     ]
    }
   ],
   "source": [
    "print(z2)"
   ]
  },
  {
   "cell_type": "code",
   "execution_count": 31,
   "id": "a92474a7",
   "metadata": {},
   "outputs": [
    {
     "data": {
      "text/plain": [
       "545"
      ]
     },
     "execution_count": 31,
     "metadata": {},
     "output_type": "execute_result"
    }
   ],
   "source": [
    "# Standard function\n",
    "z2.sum()"
   ]
  },
  {
   "cell_type": "code",
   "execution_count": 33,
   "id": "4077d288",
   "metadata": {},
   "outputs": [],
   "source": [
    "#Sum column\n",
    "\n",
    "n = np.array([[1,2],[3,4]])"
   ]
  }
 ],
 "metadata": {
  "kernelspec": {
   "display_name": "Python 3 (ipykernel)",
   "language": "python",
   "name": "python3"
  },
  "language_info": {
   "codemirror_mode": {
    "name": "ipython",
    "version": 3
   },
   "file_extension": ".py",
   "mimetype": "text/x-python",
   "name": "python",
   "nbconvert_exporter": "python",
   "pygments_lexer": "ipython3",
   "version": "3.11.4"
  }
 },
 "nbformat": 4,
 "nbformat_minor": 5
}
